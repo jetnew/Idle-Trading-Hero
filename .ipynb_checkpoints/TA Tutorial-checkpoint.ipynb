{
 "cells": [
  {
   "cell_type": "code",
   "execution_count": 1,
   "metadata": {},
   "outputs": [
    {
     "data": {
      "image/png": "[encoded data removed]",
      "text/plain": [
       "<Figure size 432x288 with 1 Axes>"
      ]
     },
     "metadata": {
      "needs_background": "light"
     },
     "output_type": "display_data"
    }
   ],
   "source": [
    "import numpy as np\n",
    "import pandas as pd\n",
    "import matplotlib.pyplot as plt\n",
    "import json\n",
    "\n",
    "with open('data/data2/AUD_USD-1588780800-H1-10000.json') as f:\n",
    "    data = json.load(f)\n",
    "d = {r: [dic[r] for dic in data] for r in data[0]}\n",
    "df = pd.DataFrame(d)\n",
    "diff = list(df['O'].diff()[1:])\n",
    "diff.append(np.nan)\n",
    "# Label used for feature selection is when V_t=1 - V_t=0 > 0\n",
    "df['d_O'] = diff\n",
    "df['d_O_sign'] = df['d_O'] > 0\n",
    "df_dev = df.loc[:500]\n",
    "plt.plot(df_dev['O'])\n",
    "plt.show()"
   ]
  },
  {
   "cell_type": "code",
   "execution_count": 2,
   "metadata": {},
   "outputs": [
    {
     "data": {
      "text/html": [
       "<div>\n",
       "<style scoped>\n",
       "    .dataframe tbody tr th:only-of-type {\n",
       "        vertical-align: middle;\n",
       "    }\n",
       "\n",
       "    .dataframe tbody tr th {\n",
       "        vertical-align: top;\n",
       "    }\n",
       "\n",
       "    .dataframe thead th {\n",
       "        text-align: right;\n",
       "    }\n",
       "</style>\n",
       "<table border=\"1\" class=\"dataframe\">\n",
       "  <thead>\n",
       "    <tr style=\"text-align: right;\">\n",
       "      <th></th>\n",
       "      <th>Complete</th>\n",
       "      <th>Volume</th>\n",
       "      <th>Time</th>\n",
       "      <th>O</th>\n",
       "      <th>H</th>\n",
       "      <th>L</th>\n",
       "      <th>C</th>\n",
       "      <th>d_O</th>\n",
       "      <th>d_O_sign</th>\n",
       "    </tr>\n",
       "  </thead>\n",
       "  <tbody>\n",
       "    <tr>\n",
       "      <th>0</th>\n",
       "      <td>True</td>\n",
       "      <td>268</td>\n",
       "      <td>1537920000</td>\n",
       "      <td>0.72482</td>\n",
       "      <td>0.72554</td>\n",
       "      <td>0.72461</td>\n",
       "      <td>0.72518</td>\n",
       "      <td>0.00042</td>\n",
       "      <td>True</td>\n",
       "    </tr>\n",
       "    <tr>\n",
       "      <th>1</th>\n",
       "      <td>True</td>\n",
       "      <td>881</td>\n",
       "      <td>1537923600</td>\n",
       "      <td>0.72524</td>\n",
       "      <td>0.72770</td>\n",
       "      <td>0.72482</td>\n",
       "      <td>0.72758</td>\n",
       "      <td>0.00236</td>\n",
       "      <td>True</td>\n",
       "    </tr>\n",
       "    <tr>\n",
       "      <th>2</th>\n",
       "      <td>True</td>\n",
       "      <td>331</td>\n",
       "      <td>1537927200</td>\n",
       "      <td>0.72760</td>\n",
       "      <td>0.72832</td>\n",
       "      <td>0.72735</td>\n",
       "      <td>0.72772</td>\n",
       "      <td>0.00014</td>\n",
       "      <td>True</td>\n",
       "    </tr>\n",
       "    <tr>\n",
       "      <th>3</th>\n",
       "      <td>True</td>\n",
       "      <td>215</td>\n",
       "      <td>1537930800</td>\n",
       "      <td>0.72774</td>\n",
       "      <td>0.72782</td>\n",
       "      <td>0.72742</td>\n",
       "      <td>0.72748</td>\n",
       "      <td>-0.00026</td>\n",
       "      <td>False</td>\n",
       "    </tr>\n",
       "    <tr>\n",
       "      <th>4</th>\n",
       "      <td>True</td>\n",
       "      <td>171</td>\n",
       "      <td>1537934400</td>\n",
       "      <td>0.72748</td>\n",
       "      <td>0.72748</td>\n",
       "      <td>0.72682</td>\n",
       "      <td>0.72682</td>\n",
       "      <td>-0.00070</td>\n",
       "      <td>False</td>\n",
       "    </tr>\n",
       "    <tr>\n",
       "      <th>...</th>\n",
       "      <td>...</td>\n",
       "      <td>...</td>\n",
       "      <td>...</td>\n",
       "      <td>...</td>\n",
       "      <td>...</td>\n",
       "      <td>...</td>\n",
       "      <td>...</td>\n",
       "      <td>...</td>\n",
       "      <td>...</td>\n",
       "    </tr>\n",
       "    <tr>\n",
       "      <th>9995</th>\n",
       "      <td>True</td>\n",
       "      <td>338</td>\n",
       "      <td>1588762800</td>\n",
       "      <td>0.64378</td>\n",
       "      <td>0.64447</td>\n",
       "      <td>0.64338</td>\n",
       "      <td>0.64426</td>\n",
       "      <td>0.00052</td>\n",
       "      <td>True</td>\n",
       "    </tr>\n",
       "    <tr>\n",
       "      <th>9996</th>\n",
       "      <td>True</td>\n",
       "      <td>887</td>\n",
       "      <td>1588766400</td>\n",
       "      <td>0.64430</td>\n",
       "      <td>0.64474</td>\n",
       "      <td>0.64304</td>\n",
       "      <td>0.64446</td>\n",
       "      <td>0.00020</td>\n",
       "      <td>True</td>\n",
       "    </tr>\n",
       "    <tr>\n",
       "      <th>9997</th>\n",
       "      <td>True</td>\n",
       "      <td>1003</td>\n",
       "      <td>1588770000</td>\n",
       "      <td>0.64450</td>\n",
       "      <td>0.64528</td>\n",
       "      <td>0.64370</td>\n",
       "      <td>0.64437</td>\n",
       "      <td>-0.00016</td>\n",
       "      <td>False</td>\n",
       "    </tr>\n",
       "    <tr>\n",
       "      <th>9998</th>\n",
       "      <td>True</td>\n",
       "      <td>1544</td>\n",
       "      <td>1588773600</td>\n",
       "      <td>0.64434</td>\n",
       "      <td>0.64458</td>\n",
       "      <td>0.64236</td>\n",
       "      <td>0.64295</td>\n",
       "      <td>-0.00136</td>\n",
       "      <td>False</td>\n",
       "    </tr>\n",
       "    <tr>\n",
       "      <th>9999</th>\n",
       "      <td>True</td>\n",
       "      <td>985</td>\n",
       "      <td>1588777200</td>\n",
       "      <td>0.64298</td>\n",
       "      <td>0.64349</td>\n",
       "      <td>0.64068</td>\n",
       "      <td>0.64148</td>\n",
       "      <td>NaN</td>\n",
       "      <td>False</td>\n",
       "    </tr>\n",
       "  </tbody>\n",
       "</table>\n",
       "<p>10000 rows × 9 columns</p>\n",
       "</div>"
      ],
      "text/plain": [
       "      Complete  Volume        Time        O        H        L        C  \\\n",
       "0         True     268  1537920000  0.72482  0.72554  0.72461  0.72518   \n",
       "1         True     881  1537923600  0.72524  0.72770  0.72482  0.72758   \n",
       "2         True     331  1537927200  0.72760  0.72832  0.72735  0.72772   \n",
       "3         True     215  1537930800  0.72774  0.72782  0.72742  0.72748   \n",
       "4         True     171  1537934400  0.72748  0.72748  0.72682  0.72682   \n",
       "...        ...     ...         ...      ...      ...      ...      ...   \n",
       "9995      True     338  1588762800  0.64378  0.64447  0.64338  0.64426   \n",
       "9996      True     887  1588766400  0.64430  0.64474  0.64304  0.64446   \n",
       "9997      True    1003  1588770000  0.64450  0.64528  0.64370  0.64437   \n",
       "9998      True    1544  1588773600  0.64434  0.64458  0.64236  0.64295   \n",
       "9999      True     985  1588777200  0.64298  0.64349  0.64068  0.64148   \n",
       "\n",
       "          d_O  d_O_sign  \n",
       "0     0.00042      True  \n",
       "1     0.00236      True  \n",
       "2     0.00014      True  \n",
       "3    -0.00026     False  \n",
       "4    -0.00070     False  \n",
       "...       ...       ...  \n",
       "9995  0.00052      True  \n",
       "9996  0.00020      True  \n",
       "9997 -0.00016     False  \n",
       "9998 -0.00136     False  \n",
       "9999      NaN     False  \n",
       "\n",
       "[10000 rows x 9 columns]"
      ]
     },
     "execution_count": 2,
     "metadata": {},
     "output_type": "execute_result"
    }
   ],
   "source": [
    "df"
   ]
  },
  {
   "cell_type": "code",
   "execution_count": 4,
   "metadata": {},
   "outputs": [
    {
     "name": "stderr",
     "output_type": "stream",
     "text": [
      "C:\\Users\\notes\\Anaconda3\\envs\\quant\\lib\\site-packages\\ta\\trend.py:608: RuntimeWarning: invalid value encountered in double_scalars\n",
      "  dip[i] = 100 * (self._dip[i]/self._trs[i])\n",
      "C:\\Users\\notes\\Anaconda3\\envs\\quant\\lib\\site-packages\\ta\\trend.py:612: RuntimeWarning: invalid value encountered in double_scalars\n",
      "  din[i] = 100 * (self._din[i]/self._trs[i])\n"
     ]
    }
   ],
   "source": [
    "from ta import add_all_ta_features\n",
    "from ta.utils import dropna\n",
    "\n",
    "df = dropna(df)\n",
    "\n",
    "# Add all ta features\n",
    "df = add_all_ta_features(\n",
    "    df, open=\"O\", high=\"H\", low=\"L\", close=\"C\", volume=\"Volume\")"
   ]
  },
  {
   "cell_type": "code",
   "execution_count": 6,
   "metadata": {},
   "outputs": [
    {
     "data": {
      "text/plain": [
       "Index(['Complete', 'Volume', 'Time', 'O', 'H', 'L', 'C', 'd_O', 'd_O_sign',\n",
       "       'volume_adi', 'volume_obv', 'volume_cmf', 'volume_fi', 'momentum_mfi',\n",
       "       'volume_em', 'volume_sma_em', 'volume_vpt', 'volume_nvi', 'volume_vwap',\n",
       "       'volatility_atr', 'volatility_bbm', 'volatility_bbh', 'volatility_bbl',\n",
       "       'volatility_bbw', 'volatility_bbp', 'volatility_bbhi',\n",
       "       'volatility_bbli', 'volatility_kcc', 'volatility_kch', 'volatility_kcl',\n",
       "       'volatility_kcw', 'volatility_kcp', 'volatility_kchi',\n",
       "       'volatility_kcli', 'volatility_dcl', 'volatility_dch', 'trend_macd',\n",
       "       'trend_macd_signal', 'trend_macd_diff', 'trend_sma_fast',\n",
       "       'trend_sma_slow', 'trend_ema_fast', 'trend_ema_slow', 'trend_adx',\n",
       "       'trend_adx_pos', 'trend_adx_neg', 'trend_vortex_ind_pos',\n",
       "       'trend_vortex_ind_neg', 'trend_vortex_ind_diff', 'trend_trix',\n",
       "       'trend_mass_index', 'trend_cci', 'trend_dpo', 'trend_kst',\n",
       "       'trend_kst_sig', 'trend_kst_diff', 'trend_ichimoku_conv',\n",
       "       'trend_ichimoku_base', 'trend_ichimoku_a', 'trend_ichimoku_b',\n",
       "       'trend_visual_ichimoku_a', 'trend_visual_ichimoku_b', 'trend_aroon_up',\n",
       "       'trend_aroon_down', 'trend_aroon_ind', 'trend_psar_up',\n",
       "       'trend_psar_down', 'trend_psar_up_indicator',\n",
       "       'trend_psar_down_indicator', 'momentum_rsi', 'momentum_tsi',\n",
       "       'momentum_uo', 'momentum_stoch', 'momentum_stoch_signal', 'momentum_wr',\n",
       "       'momentum_ao', 'momentum_kama', 'momentum_roc', 'others_dr',\n",
       "       'others_dlr', 'others_cr'],\n",
       "      dtype='object')"
      ]
     },
     "execution_count": 6,
     "metadata": {},
     "output_type": "execute_result"
    }
   ],
   "source": [
    "df.columns"
   ]
  },
  {
   "cell_type": "code",
   "execution_count": 13,
   "metadata": {},
   "outputs": [
    {
     "data": {
      "image/png": "[encoded data removed]",
      "text/plain": [
       "<Figure size 432x288 with 1 Axes>"
      ]
     },
     "metadata": {
      "needs_background": "light"
     },
     "output_type": "display_data"
    }
   ],
   "source": [
    "plt.plot(df['trend_macd'][:100], label='macd')\n",
    "plt.plot(df['trend_macd_diff'][:100], label='macd diff')\n",
    "plt.plot(df['trend_macd_signal'][:100], label='macd signal')\n",
    "plt.legend(loc='best')\n",
    "plt.show()"
   ]
  }
 ],
 "metadata": {
  "kernelspec": {
   "display_name": "quant",
   "language": "python",
   "name": "quant"
  },
  "language_info": {
   "codemirror_mode": {
    "name": "ipython",
    "version": 3
   },
   "file_extension": ".py",
   "mimetype": "text/x-python",
   "name": "python",
   "nbconvert_exporter": "python",
   "pygments_lexer": "ipython3",
   "version": "3.7.6"
  }
 },
 "nbformat": 4,
 "nbformat_minor": 4
}
