{
 "cells": [
  {
   "cell_type": "code",
   "execution_count": 2,
   "metadata": {},
   "outputs": [],
   "source": [
    "import numpy as np\n",
    "import pandas as pd\n",
    "import matplotlib.pyplot as plt\n",
    "import json"
   ]
  },
  {
   "cell_type": "code",
   "execution_count": 3,
   "metadata": {},
   "outputs": [
    {
     "data": {
      "image/png": "[encoded data removed]",
      "text/plain": [
       "<Figure size 432x288 with 1 Axes>"
      ]
     },
     "metadata": {
      "needs_background": "light"
     },
     "output_type": "display_data"
    }
   ],
   "source": [
    "with open('data/data2/AUD_USD-1588780800-H1-10000.json') as f:\n",
    "    data = json.load(f)\n",
    "d = {r: [dic[r] for dic in data] for r in data[0]}\n",
    "df = pd.DataFrame(d)\n",
    "diff = list(df['O'].diff()[1:])\n",
    "diff.append(np.nan)\n",
    "# Label used for feature selection is when V_t=1 - V_t=0 > 0\n",
    "df['d_O'] = diff\n",
    "df['d_O_sign'] = df['d_O'] > 0\n",
    "df_dev = df.loc[:500]\n",
    "plt.plot(df_dev['O'])\n",
    "plt.show()"
   ]
  },
  {
   "cell_type": "code",
   "execution_count": 12,
   "metadata": {},
   "outputs": [],
   "source": [
    "class MACD:\n",
    "    def __init__(self, capital):\n",
    "        self.capital = capital\n",
    "        self.hist = pd.DataFrame()\n",
    "\n",
    "    def act(self, observation):\n",
    "        \"\"\"Given an observation, return an action.\n",
    "        Input:\n",
    "            observation - ndarray, shape=(1, d)\n",
    "        Output:\n",
    "            action - int, [-1, 0, 1] for sell, nothing, buy respectively\n",
    "        \"\"\"\n",
    "        self.hist = self.hist.append(pd.Series(observation), ignore_index=True)\n",
    "        self.hist['ema26'] = self.hist[0].ewm(span=26,\n",
    "                                              min_periods=26,\n",
    "                                              adjust=False).mean()\n",
    "        self.hist['ema12'] = self.hist[0].ewm(span=12,\n",
    "                                              min_periods=12,\n",
    "                                              adjust=False).mean()\n",
    "        self.hist['macd'] =  self.hist['ema12'] - self.hist['ema26']\n",
    "        self.hist['macd_signal'] = self.hist['macd'].ewm(span=9,\n",
    "                                                         min_periods=9,\n",
    "                                                         adjust=False).mean()\n",
    "        self.hist['diff'] = self.hist['macd'] - self.hist['macd_signal']\n",
    "        self.hist['diff_lag'] = self.hist['diff'].shift(1)\n",
    "        \n",
    "        # action: 1 means buy, -1 means sell, 0 means do nothing\n",
    "        self.hist['action'] = (np.sign(self.hist['diff']) - np.sign(self.hist['diff_lag'])) / 2\n",
    "        self.hist['balance_change'] = -1 * self.hist['action'] * self.hist[0]\n",
    "        self.hist['stock'] = self.hist['action'].cumsum()\n",
    "        self.hist['balance'] = self.capital + self.hist['balance_change'].cumsum()\n",
    "        \n",
    "    def plot(self):\n",
    "        fig, ax1 = plt.subplots()\n",
    "        \n",
    "        plt.title(\"Signals\")\n",
    "        ax1.plot(self.hist['macd'], label='macd')\n",
    "        ax1.plot(self.hist['macd_signal'], label='macd_signal')\n",
    "        ax1.plot(self.hist['diff'], label='macd_diff')\n",
    "        ax1.set_ylabel(\"signals\")\n",
    "        plt.legend(loc='best')\n",
    "        \n",
    "        ax2 = ax1.twinx()\n",
    "        ax2.plot(self.hist[0], 'r', label='price')\n",
    "        ax2.set_ylabel(\"price\")\n",
    "        plt.show()\n",
    "        \n",
    "        plt.title(\"Balance\")\n",
    "        plt.plot(self.hist['balance'], '.', label='balance')\n",
    "        plt.legend(loc='best')\n",
    "        plt.show()\n",
    "    \n",
    "    def __repr__(self):\n",
    "        return str(self.hist.iloc[-1])\n",
    "    \n",
    "    def run(self, X):\n",
    "        for i, v in enumerate(X):\n",
    "            self.act(v)"
   ]
  },
  {
   "cell_type": "code",
   "execution_count": 13,
   "metadata": {},
   "outputs": [
    {
     "name": "stderr",
     "output_type": "stream",
     "text": [
      "C:\\Users\\notes\\Anaconda3\\envs\\quant\\lib\\site-packages\\pandas\\core\\series.py:679: RuntimeWarning: invalid value encountered in sign\n",
      "  result = getattr(ufunc, method)(*inputs, **kwargs)\n"
     ]
    }
   ],
   "source": [
    "macd = MACD(capital=100)\n",
    "for v in df['O'][:100]:\n",
    "    macd.act(v)\n",
    "# macd.act(df['O'][0])"
   ]
  },
  {
   "cell_type": "code",
   "execution_count": 14,
   "metadata": {},
   "outputs": [
    {
     "data": {
      "text/html": [
       "<div>\n",
       "<style scoped>\n",
       "    .dataframe tbody tr th:only-of-type {\n",
       "        vertical-align: middle;\n",
       "    }\n",
       "\n",
       "    .dataframe tbody tr th {\n",
       "        vertical-align: top;\n",
       "    }\n",
       "\n",
       "    .dataframe thead th {\n",
       "        text-align: right;\n",
       "    }\n",
       "</style>\n",
       "<table border=\"1\" class=\"dataframe\">\n",
       "  <thead>\n",
       "    <tr style=\"text-align: right;\">\n",
       "      <th></th>\n",
       "      <th>0</th>\n",
       "      <th>ema26</th>\n",
       "      <th>ema12</th>\n",
       "      <th>macd</th>\n",
       "      <th>macd_signal</th>\n",
       "      <th>diff</th>\n",
       "      <th>diff_lag</th>\n",
       "      <th>action</th>\n",
       "      <th>balance_change</th>\n",
       "      <th>stock</th>\n",
       "      <th>balance</th>\n",
       "    </tr>\n",
       "  </thead>\n",
       "  <tbody>\n",
       "    <tr>\n",
       "      <th>0</th>\n",
       "      <td>0.72482</td>\n",
       "      <td>NaN</td>\n",
       "      <td>NaN</td>\n",
       "      <td>NaN</td>\n",
       "      <td>NaN</td>\n",
       "      <td>NaN</td>\n",
       "      <td>NaN</td>\n",
       "      <td>NaN</td>\n",
       "      <td>NaN</td>\n",
       "      <td>NaN</td>\n",
       "      <td>NaN</td>\n",
       "    </tr>\n",
       "    <tr>\n",
       "      <th>1</th>\n",
       "      <td>0.72524</td>\n",
       "      <td>NaN</td>\n",
       "      <td>NaN</td>\n",
       "      <td>NaN</td>\n",
       "      <td>NaN</td>\n",
       "      <td>NaN</td>\n",
       "      <td>NaN</td>\n",
       "      <td>NaN</td>\n",
       "      <td>NaN</td>\n",
       "      <td>NaN</td>\n",
       "      <td>NaN</td>\n",
       "    </tr>\n",
       "    <tr>\n",
       "      <th>2</th>\n",
       "      <td>0.72760</td>\n",
       "      <td>NaN</td>\n",
       "      <td>NaN</td>\n",
       "      <td>NaN</td>\n",
       "      <td>NaN</td>\n",
       "      <td>NaN</td>\n",
       "      <td>NaN</td>\n",
       "      <td>NaN</td>\n",
       "      <td>NaN</td>\n",
       "      <td>NaN</td>\n",
       "      <td>NaN</td>\n",
       "    </tr>\n",
       "    <tr>\n",
       "      <th>3</th>\n",
       "      <td>0.72774</td>\n",
       "      <td>NaN</td>\n",
       "      <td>NaN</td>\n",
       "      <td>NaN</td>\n",
       "      <td>NaN</td>\n",
       "      <td>NaN</td>\n",
       "      <td>NaN</td>\n",
       "      <td>NaN</td>\n",
       "      <td>NaN</td>\n",
       "      <td>NaN</td>\n",
       "      <td>NaN</td>\n",
       "    </tr>\n",
       "    <tr>\n",
       "      <th>4</th>\n",
       "      <td>0.72748</td>\n",
       "      <td>NaN</td>\n",
       "      <td>NaN</td>\n",
       "      <td>NaN</td>\n",
       "      <td>NaN</td>\n",
       "      <td>NaN</td>\n",
       "      <td>NaN</td>\n",
       "      <td>NaN</td>\n",
       "      <td>NaN</td>\n",
       "      <td>NaN</td>\n",
       "      <td>NaN</td>\n",
       "    </tr>\n",
       "    <tr>\n",
       "      <th>...</th>\n",
       "      <td>...</td>\n",
       "      <td>...</td>\n",
       "      <td>...</td>\n",
       "      <td>...</td>\n",
       "      <td>...</td>\n",
       "      <td>...</td>\n",
       "      <td>...</td>\n",
       "      <td>...</td>\n",
       "      <td>...</td>\n",
       "      <td>...</td>\n",
       "      <td>...</td>\n",
       "    </tr>\n",
       "    <tr>\n",
       "      <th>95</th>\n",
       "      <td>0.72246</td>\n",
       "      <td>0.722182</td>\n",
       "      <td>0.722271</td>\n",
       "      <td>0.000089</td>\n",
       "      <td>0.000026</td>\n",
       "      <td>0.000063</td>\n",
       "      <td>0.000067</td>\n",
       "      <td>0.0</td>\n",
       "      <td>-0.0</td>\n",
       "      <td>1.0</td>\n",
       "      <td>99.27812</td>\n",
       "    </tr>\n",
       "    <tr>\n",
       "      <th>96</th>\n",
       "      <td>0.72278</td>\n",
       "      <td>0.722226</td>\n",
       "      <td>0.722349</td>\n",
       "      <td>0.000123</td>\n",
       "      <td>0.000045</td>\n",
       "      <td>0.000078</td>\n",
       "      <td>0.000063</td>\n",
       "      <td>0.0</td>\n",
       "      <td>-0.0</td>\n",
       "      <td>1.0</td>\n",
       "      <td>99.27812</td>\n",
       "    </tr>\n",
       "    <tr>\n",
       "      <th>97</th>\n",
       "      <td>0.72326</td>\n",
       "      <td>0.722303</td>\n",
       "      <td>0.722489</td>\n",
       "      <td>0.000187</td>\n",
       "      <td>0.000073</td>\n",
       "      <td>0.000113</td>\n",
       "      <td>0.000078</td>\n",
       "      <td>0.0</td>\n",
       "      <td>-0.0</td>\n",
       "      <td>1.0</td>\n",
       "      <td>99.27812</td>\n",
       "    </tr>\n",
       "    <tr>\n",
       "      <th>98</th>\n",
       "      <td>0.72286</td>\n",
       "      <td>0.722344</td>\n",
       "      <td>0.722546</td>\n",
       "      <td>0.000202</td>\n",
       "      <td>0.000099</td>\n",
       "      <td>0.000103</td>\n",
       "      <td>0.000113</td>\n",
       "      <td>0.0</td>\n",
       "      <td>-0.0</td>\n",
       "      <td>1.0</td>\n",
       "      <td>99.27812</td>\n",
       "    </tr>\n",
       "    <tr>\n",
       "      <th>99</th>\n",
       "      <td>0.72281</td>\n",
       "      <td>0.722378</td>\n",
       "      <td>0.722587</td>\n",
       "      <td>0.000208</td>\n",
       "      <td>0.000121</td>\n",
       "      <td>0.000087</td>\n",
       "      <td>0.000103</td>\n",
       "      <td>0.0</td>\n",
       "      <td>-0.0</td>\n",
       "      <td>1.0</td>\n",
       "      <td>99.27812</td>\n",
       "    </tr>\n",
       "  </tbody>\n",
       "</table>\n",
       "<p>100 rows × 11 columns</p>\n",
       "</div>"
      ],
      "text/plain": [
       "          0     ema26     ema12      macd  macd_signal      diff  diff_lag  \\\n",
       "0   0.72482       NaN       NaN       NaN          NaN       NaN       NaN   \n",
       "1   0.72524       NaN       NaN       NaN          NaN       NaN       NaN   \n",
       "2   0.72760       NaN       NaN       NaN          NaN       NaN       NaN   \n",
       "3   0.72774       NaN       NaN       NaN          NaN       NaN       NaN   \n",
       "4   0.72748       NaN       NaN       NaN          NaN       NaN       NaN   \n",
       "..      ...       ...       ...       ...          ...       ...       ...   \n",
       "95  0.72246  0.722182  0.722271  0.000089     0.000026  0.000063  0.000067   \n",
       "96  0.72278  0.722226  0.722349  0.000123     0.000045  0.000078  0.000063   \n",
       "97  0.72326  0.722303  0.722489  0.000187     0.000073  0.000113  0.000078   \n",
       "98  0.72286  0.722344  0.722546  0.000202     0.000099  0.000103  0.000113   \n",
       "99  0.72281  0.722378  0.722587  0.000208     0.000121  0.000087  0.000103   \n",
       "\n",
       "    action  balance_change  stock   balance  \n",
       "0      NaN             NaN    NaN       NaN  \n",
       "1      NaN             NaN    NaN       NaN  \n",
       "2      NaN             NaN    NaN       NaN  \n",
       "3      NaN             NaN    NaN       NaN  \n",
       "4      NaN             NaN    NaN       NaN  \n",
       "..     ...             ...    ...       ...  \n",
       "95     0.0            -0.0    1.0  99.27812  \n",
       "96     0.0            -0.0    1.0  99.27812  \n",
       "97     0.0            -0.0    1.0  99.27812  \n",
       "98     0.0            -0.0    1.0  99.27812  \n",
       "99     0.0            -0.0    1.0  99.27812  \n",
       "\n",
       "[100 rows x 11 columns]"
      ]
     },
     "execution_count": 14,
     "metadata": {},
     "output_type": "execute_result"
    }
   ],
   "source": [
    "macd.hist"
   ]
  },
  {
   "cell_type": "code",
   "execution_count": 15,
   "metadata": {},
   "outputs": [
    {
     "name": "stderr",
     "output_type": "stream",
     "text": [
      "C:\\Users\\notes\\Anaconda3\\envs\\quant\\lib\\site-packages\\pandas\\core\\series.py:679: RuntimeWarning: invalid value encountered in sign\n",
      "  result = getattr(ufunc, method)(*inputs, **kwargs)\n"
     ]
    },
    {
     "data": {
      "image/png": "[encoded data removed]",
      "text/plain": [
       "<Figure size 432x288 with 2 Axes>"
      ]
     },
     "metadata": {
      "needs_background": "light"
     },
     "output_type": "display_data"
    },
    {
     "data": {
      "image/png": "[encoded data removed]",
      "text/plain": [
       "<Figure size 432x288 with 1 Axes>"
      ]
     },
     "metadata": {
      "needs_background": "light"
     },
     "output_type": "display_data"
    },
    {
     "data": {
      "text/plain": [
       "0                  0.722810\n",
       "ema26              0.722378\n",
       "ema12              0.722587\n",
       "macd               0.000208\n",
       "macd_signal        0.000121\n",
       "diff               0.000087\n",
       "diff_lag           0.000103\n",
       "action             0.000000\n",
       "balance_change    -0.000000\n",
       "stock              1.000000\n",
       "balance           99.278120\n",
       "Name: 99, dtype: float64"
      ]
     },
     "execution_count": 15,
     "metadata": {},
     "output_type": "execute_result"
    }
   ],
   "source": [
    "macd = MACD(capital=100)\n",
    "macd.run(df['O'][:100])\n",
    "macd.plot()\n",
    "macd"
   ]
  },
  {
   "cell_type": "code",
   "execution_count": 16,
   "metadata": {},
   "outputs": [
    {
     "data": {
      "text/plain": [
       "0          NaN\n",
       "1          NaN\n",
       "2          NaN\n",
       "3          NaN\n",
       "4          NaN\n",
       "        ...   \n",
       "95    99.27812\n",
       "96    99.27812\n",
       "97    99.27812\n",
       "98    99.27812\n",
       "99    99.27812\n",
       "Name: balance, Length: 100, dtype: float64"
      ]
     },
     "execution_count": 16,
     "metadata": {},
     "output_type": "execute_result"
    }
   ],
   "source": [
    "macd.hist['balance']"
   ]
  },
  {
   "cell_type": "code",
   "execution_count": null,
   "metadata": {},
   "outputs": [],
   "source": []
  }
 ],
 "metadata": {
  "kernelspec": {
   "display_name": "quant",
   "language": "python",
   "name": "quant"
  },
  "language_info": {
   "codemirror_mode": {
    "name": "ipython",
    "version": 3
   },
   "file_extension": ".py",
   "mimetype": "text/x-python",
   "name": "python",
   "nbconvert_exporter": "python",
   "pygments_lexer": "ipython3",
   "version": "3.7.6"
  }
 },
 "nbformat": 4,
 "nbformat_minor": 4
}
